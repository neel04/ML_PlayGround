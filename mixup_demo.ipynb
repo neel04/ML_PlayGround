{
  "cells": [
    {
      "cell_type": "markdown",
      "metadata": {
        "id": "view-in-github",
        "colab_type": "text"
      },
      "source": [
        "<a href=\"https://colab.research.google.com/github/neel04/ML_PlayGround/blob/master/mixup_demo.ipynb\" target=\"_parent\"><img src=\"https://colab.research.google.com/assets/colab-badge.svg\" alt=\"Open In Colab\"/></a>"
      ]
    },
    {
      "cell_type": "code",
      "execution_count": 1,
      "metadata": {
        "id": "lIYdn1woOS1n"
      },
      "outputs": [],
      "source": [
        "import tensorflow as tf\n",
        "\n",
        "def mixup(images, labels, token_label=None, alpha=0.4, min_mix_weight=0):\n",
        "    # mix_weight = tfp.distributions.Beta(alpha, alpha).sample([batch_size, 1])\n",
        "    batch_size = tf.shape(images)[0]\n",
        "    mix_weight = sample_beta_distribution([batch_size], alpha, alpha)\n",
        "    mix_weight = tf.maximum(mix_weight, 1.0 - mix_weight)\n",
        "\n",
        "\n",
        "    # For min_mix_weight=0.1, regard values with `> 0.9` as no mixup, this probability is near `1 - alpha`\n",
        "    # alpha: no_mixup --> {0.1: 0.8128, 0.2: 0.6736, 0.4: 0.4793, 0.6: 0.3521, 0.8: 0.2636, 1.0: 0.2000}\n",
        "    if min_mix_weight > 0:\n",
        "        mix_weight = tf.where(mix_weight > 1 - min_mix_weight, tf.ones_like(mix_weight), mix_weight)\n",
        "\n",
        "\n",
        "    label_mix_weight = tf.cast(tf.expand_dims(mix_weight, -1), \"float32\")\n",
        "    img_mix_weight = tf.cast(tf.reshape(mix_weight, [batch_size, 1, 1, 1]), images.dtype)\n",
        "\n",
        "\n",
        "    labels = tf.cast(labels, \"float32\")\n",
        "    # images = images * img_mix_weight + images[::-1] * (1.0 - img_mix_weight)\n",
        "    # labels = labels * label_mix_weight + labels[::-1] * (1 - label_mix_weight)\n",
        "    shuffle_index = tf.random.shuffle(tf.range(batch_size))\n",
        "    images = images * img_mix_weight + tf.gather(images, shuffle_index) * (1.0 - img_mix_weight)\n",
        "    labels = labels * label_mix_weight + tf.gather(labels, shuffle_index) * (1 - label_mix_weight)\n",
        "    if token_label is None:\n",
        "        return images, labels\n",
        "    else:\n",
        "        # token_label shape `[batch, path_height, patch_width, one_hot_labels]`\n",
        "        token_label = token_label * img_mix_weight + tf.gather(token_label, shuffle_index) * (1 - img_mix_weight)\n",
        "        return images, labels, token_label"
      ]
    },
    {
      "cell_type": "code",
      "source": [
        "def sample_beta_distribution(shape, concentration_0=0.4, concentration_1=0.4):\n",
        "    gamma_1_sample = tf.random.gamma(shape=shape, alpha=concentration_1)\n",
        "    gamma_2_sample = tf.random.gamma(shape=shape, alpha=concentration_0)\n",
        "    return gamma_1_sample / (gamma_1_sample + gamma_2_sample)"
      ],
      "metadata": {
        "id": "MHbzgmnIPH5B"
      },
      "execution_count": 3,
      "outputs": []
    },
    {
      "cell_type": "code",
      "source": [
        "imgs = tf.zeros((6, 512, 512, 6))\n",
        "labels = tf.ones((6))\n",
        "\n",
        "output = mixup(imgs, labels)"
      ],
      "metadata": {
        "id": "xra6Dn0fO2rX"
      },
      "execution_count": null,
      "outputs": []
    },
    {
      "cell_type": "code",
      "source": [
        "output[0].shape"
      ],
      "metadata": {
        "id": "p57QEXa2PMyh",
        "outputId": "1b6b71b4-b8cf-44d4-ec9f-28181d60934e",
        "colab": {
          "base_uri": "https://localhost:8080/"
        }
      },
      "execution_count": 7,
      "outputs": [
        {
          "output_type": "execute_result",
          "data": {
            "text/plain": [
              "TensorShape([6, 512, 512, 6])"
            ]
          },
          "metadata": {},
          "execution_count": 7
        }
      ]
    }
  ],
  "metadata": {
    "colab": {
      "name": "scratchpad",
      "provenance": [],
      "include_colab_link": true
    },
    "kernelspec": {
      "display_name": "Python 3",
      "name": "python3"
    }
  },
  "nbformat": 4,
  "nbformat_minor": 0
}